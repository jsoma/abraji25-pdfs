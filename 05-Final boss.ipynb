{
 "cells": [
  {
   "cell_type": "code",
   "execution_count": null,
   "id": "55b31d0c-62a0-45ef-91a0-adfe86bd56a9",
   "metadata": {},
   "outputs": [],
   "source": [
    "# temperature.pdf or cyrillic.pdf\n",
    "\n",
    "from natural_pdf import PDF\n",
    "\n",
    "pdf = PDF(\"https://github.com/jsoma/abraji25-natural-pdf/raw/refs/heads/main/cyrillic.pdf\")\n",
    "page = pdf.pages[0]\n",
    "page.show()"
   ]
  }
 ],
 "metadata": {
  "kernelspec": {
   "display_name": "Python (natural-pdf project venv)",
   "language": "python",
   "name": "natural-pdf-project-venv"
  },
  "language_info": {
   "codemirror_mode": {
    "name": "ipython",
    "version": 3
   },
   "file_extension": ".py",
   "mimetype": "text/x-python",
   "name": "python",
   "nbconvert_exporter": "python",
   "pygments_lexer": "ipython3",
   "version": "3.11.11"
  }
 },
 "nbformat": 4,
 "nbformat_minor": 5
}
